{
  "nbformat": 4,
  "nbformat_minor": 0,
  "metadata": {
    "colab": {
      "name": "nlp_scrape_clean",
      "provenance": [],
      "authorship_tag": "ABX9TyNsTtwGwjbrSk7wBkWNsYGO",
      "include_colab_link": true
    },
    "kernelspec": {
      "name": "python3",
      "display_name": "Python 3"
    },
    "accelerator": "GPU"
  },
  "cells": [
    {
      "cell_type": "markdown",
      "metadata": {
        "id": "view-in-github",
        "colab_type": "text"
      },
      "source": [
        "<a href=\"https://colab.research.google.com/github/ujs/Eulers/blob/master/nlp_scrape_clean.ipynb\" target=\"_parent\"><img src=\"https://colab.research.google.com/assets/colab-badge.svg\" alt=\"Open In Colab\"/></a>"
      ]
    },
    {
      "cell_type": "code",
      "metadata": {
        "id": "e9n-mR6HWHO3",
        "colab_type": "code",
        "colab": {}
      },
      "source": [
        "from bs4 import BeautifulSoup\n",
        "from urllib.request import urlopen\n"
      ],
      "execution_count": 1,
      "outputs": []
    },
    {
      "cell_type": "code",
      "metadata": {
        "id": "QFVDltolWSkn",
        "colab_type": "code",
        "colab": {
          "base_uri": "https://localhost:8080/",
          "height": 523
        },
        "outputId": "6ef2289b-4ef6-4324-9c9d-f7f43fb204a2"
      },
      "source": [
        "myurl = \"https://www.indeed.com/career-advice/resume-samples/information-technology-resumes/data-scientist\"\n",
        "html = urlopen(myurl).read()\n",
        "soupified = BeautifulSoup(html, \"html.parser\")\n",
        "cv = soupified.find(\"div\", {\"class\": \"styles-module--resumeWrapper--1spDn\"})\n",
        "print(cv.get_text(separator=\"\\n\").strip())\n",
        "\n",
        "\n"
      ],
      "execution_count": 6,
      "outputs": [
        {
          "output_type": "stream",
          "text": [
            "Malik Rabb\n",
            "Seattle, WA\n",
            " • \n",
            "(123) 456-7891\n",
            "mrabb@email.com\n",
            "SUMMARY\n",
            "Data Scientist with strong math background and 3+ years of experience using predictive modeling, data processing, and data mining algorithms to solve challenging business problems. Involved in Python open source community and passionate about deep reinforcement learning.\n",
            "EDUCATION\n",
            "Coral Springs University\n",
            "Current - Current\n",
            "Bachelor of Science in Mathematics\n",
            "EXPERIENCE\n",
            "River Tech, Data Scientist\n",
            "Current - Current\n",
            "Built fuzzy matching algorithm using k-nearest neighbors to identify non-exact matching duplicates\n",
            "Designed and developed real time recommendation engine to rank sales leads for upsell opportunities\n",
            "Refined personalization algorithms for 1M+ customers on web and mobile\n",
            "Transformed raw data into MySQL with custom-made ETL application to prepare unruly data for machine learning\n",
            "Retail Ocean, Data Scientist\n",
            "Current - Current\n",
            "Leveraged 200M+ tweets to develop sentiment analysis model that helped improve sales and marketing strategies\n",
            "Used Python and Spark to scrape, clean, and analyze large datasets\n",
            "Helped build tools for detecting botnets with machine learning and data mining\n",
            "SKILLS\n",
            "2nd place at Coral Springs Big Data Hackathon (out of 150+ participants)\n",
            "Java, Python, C++, Hadoop ecosystem, and MySQL\n",
            "Data cleansing, modeling, and mining\n",
            "Machine learning\n"
          ],
          "name": "stdout"
        }
      ]
    },
    {
      "cell_type": "code",
      "metadata": {
        "id": "b80hvml6ZS6c",
        "colab_type": "code",
        "colab": {}
      },
      "source": [
        ""
      ],
      "execution_count": null,
      "outputs": []
    }
  ]
}
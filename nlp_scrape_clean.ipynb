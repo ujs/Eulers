{
  "nbformat": 4,
  "nbformat_minor": 0,
  "metadata": {
    "colab": {
      "name": "nlp_scrape_clean",
      "provenance": [],
      "authorship_tag": "ABX9TyNk6roiPZhbN8Mgyv3WpPGU"
    },
    "kernelspec": {
      "name": "python3",
      "display_name": "Python 3"
    },
    "accelerator": "GPU"
  },
  "cells": [
    {
      "cell_type": "code",
      "metadata": {
        "id": "e9n-mR6HWHO3",
        "colab_type": "code",
        "colab": {}
      },
      "source": [
        "from bs4 import BeautifulSoup\n",
        "from urllib.request import urlopen\n",
        "from html.parser import HTMLParser"
      ],
      "execution_count": 1,
      "outputs": []
    },
    {
      "cell_type": "code",
      "metadata": {
        "id": "QFVDltolWSkn",
        "colab_type": "code",
        "colab": {}
      },
      "source": [
        "\n",
        "\n",
        "myurl = \"https://www.indeed.com/career-advice/resume-samples/information-technology-resumes/data-scientist\"\n",
        "soupified = BeautifulSoup(html, \"html.parser\")\n",
        "cv = soupified.find(\"div\", {\"class\": \"styles-module--resumeWrapper--1spDn\"})\n",
        "print(cv)\n",
        "\n",
        "\n"
      ],
      "execution_count": null,
      "outputs": []
    }
  ]
}